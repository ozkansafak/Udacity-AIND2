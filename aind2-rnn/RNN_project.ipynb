{
 "cells": [
  {
   "cell_type": "markdown",
   "metadata": {},
   "source": [
    "# Artificial Intelligence Nanodegree\n",
    "## Recurrent Neural Network Projects\n",
    "\n",
    "Welcome to the Recurrent Neural Network Project in the Artificial Intelligence Nanodegree! In this notebook, some template code has already been provided for you, and you will need to implement additional functionality to successfully complete this project. You will not need to modify the included code beyond what is requested. Sections that begin with **'Implementation'** in the header indicate that the following block of code will require additional functionality which you must provide. Instructions will be provided for each section and the specifics of the implementation are marked in the code block with a 'TODO' statement. Please be sure to read the instructions carefully!\n",
    "\n",
    "In addition to implementing code, there will be questions that you must answer which relate to the project and your implementation. Each section where you will answer a question is preceded by a **'Question X'** header. Carefully read each question and provide thorough answers in the following text boxes that begin with **'Answer:'**. Your project submission will be evaluated based on your answers to each of the questions and the implementation you provide.  \n",
    "\n",
    ">**Note:** Code and Markdown cells can be executed using the **Shift + Enter** keyboard shortcut. In addition, Markdown cells can be edited by typically double-clicking the cell to enter edit mode."
   ]
  },
  {
   "cell_type": "markdown",
   "metadata": {},
   "source": [
    "### Implementation TODOs in this notebook\n",
    "\n",
    "This notebook contains two problems, cut into a variety of TODOs.  Make sure to complete each section containing a TODO marker throughout the notebook.  For convenience we provide links to each of these sections below.\n",
    "\n",
    "[TODO #1: Implement a function to window time series](#TODO_1)\n",
    "\n",
    "[TODO #2: Create a simple RNN model using keras to perform regression](#TODO_2)\n",
    "\n",
    "[TODO #3: Finish cleaning a large text corpus](#TODO_3)\n",
    "\n",
    "[TODO #4: Implement a function to window a large text corpus](#TODO_4)\n",
    "\n",
    "[TODO #5: Create a simple RNN model using keras to perform multiclass classification](#TODO_5)\n",
    "\n",
    "[TODO #6: Generate text using a fully trained RNN model and a variety of input sequences](#TODO_6)\n"
   ]
  },
  {
   "cell_type": "markdown",
   "metadata": {},
   "source": [
    "# Problem 1: Perform time series prediction \n",
    "\n",
    "In this project you will perform time series prediction using a Recurrent Neural Network regressor.  In particular you will re-create the figure shown in the notes - where the stock price of Apple was forecasted (or predicted) 7 days in advance.  In completing this exercise you will learn how to construct RNNs using Keras, which will also aid in completing the second project in this notebook.\n",
    "\n",
    "The particular network architecture we will employ for our RNN is known as  [Long Term Short Memory (LSTM)](https://en.wikipedia.org/wiki/Long_short-term_memory), which significantly helps avoid technical problems with optimization of RNNs.  "
   ]
  },
  {
   "cell_type": "markdown",
   "metadata": {},
   "source": [
    "## 1.1 Getting started\n",
    "\n",
    "First we must load in our time series - a history of around 140 days of Apple's stock price.  Then we need to perform a number of pre-processing steps to prepare it for use with an RNN model.  First off, it is good practice to normalize time series - by normalizing its range.  This helps us avoid serious numerical issues associated how common activation functions (like tanh) transform very large (positive or negative) numbers, as well as helping us to avoid related issues when computing derivatives.\n",
    "\n",
    "Here we normalize the series to lie in the range [0,1] [using this scikit function](http://scikit-learn.org/stable/modules/generated/sklearn.preprocessing.MinMaxScaler.html), but it is also commonplace to normalize by a series standard deviation."
   ]
  },
  {
   "cell_type": "markdown",
   "metadata": {},
   "source": [
    "--- \n",
    "\n",
    "\n",
    "> ### Github repo:  \n",
    "> https://github.com/ozkansafak/Udacity-AIND2/blob/master/aind2-rnn"
   ]
  },
  {
   "cell_type": "code",
   "execution_count": 1,
   "metadata": {},
   "outputs": [
    {
     "name": "stdout",
     "output_type": "stream",
     "text": [
      "[name: \"/cpu:0\"\n",
      "device_type: \"CPU\"\n",
      "memory_limit: 268435456\n",
      "locality {\n",
      "}\n",
      "incarnation: 9896611976112983011\n",
      ", name: \"/gpu:0\"\n",
      "device_type: \"GPU\"\n",
      "memory_limit: 11332668621\n",
      "locality {\n",
      "  bus_id: 1\n",
      "}\n",
      "incarnation: 1986941892042290848\n",
      "physical_device_desc: \"device: 0, name: Tesla K80, pci bus id: 0000:00:1e.0\"\n",
      "]\n"
     ]
    }
   ],
   "source": [
    "# https://github.com/ozkansafak/Udacity-AIND2/blob/master/aind2-rnn\n",
    "\n",
    "# Make sure GPU is available.\n",
    "# tensorflow-gpu will run on GPU by default\n",
    "\n",
    "from tensorflow.python.client import device_lib\n",
    "print(device_lib.list_local_devices())\n",
    "\n",
    "import tensorflow as tf\n",
    "sess = tf.Session(config=tf.ConfigProto(log_device_placement=True))"
   ]
  },
  {
   "cell_type": "markdown",
   "metadata": {},
   "source": [
    "> ### GPU is detected. Wonderful!!"
   ]
  },
  {
   "cell_type": "code",
   "execution_count": 2,
   "metadata": {},
   "outputs": [
    {
     "name": "stderr",
     "output_type": "stream",
     "text": [
      "Using TensorFlow backend.\n"
     ]
    }
   ],
   "source": [
    "### Load in necessary libraries for data input and normalization\n",
    "%matplotlib inline\n",
    "%load_ext autoreload\n",
    "%autoreload 2\n",
    "\n",
    "import numpy as np\n",
    "import matplotlib.pyplot as plt\n",
    "import matplotlib.pylab as pylab\n",
    "from my_answers import *\n",
    "from helpers import *\n",
    "from keras.callbacks import Callback\n",
    "import time\n",
    "\n",
    "params = {'legend.fontsize': 'x-large',\n",
    "          'font.size'      : 10,\n",
    "          'figure.figsize' : (17, 3),\n",
    "          'axes.labelsize' : 'x-large',\n",
    "          'axes.titlesize' : 'x-large',\n",
    "          'axes.grid'      : 'on',\n",
    "          'xtick.labelsize': 'x-large',\n",
    "          'ytick.labelsize': 'x-large'}\n",
    "\n",
    "pylab.rcParams.update(params)\n",
    "\n",
    "\n",
    "\n",
    "### load in and normalize the dataset\n",
    "dataset = np.loadtxt('datasets/normalized_apple_prices.csv')\n"
   ]
  },
  {
   "cell_type": "markdown",
   "metadata": {},
   "source": [
    "Lets take a quick look at the (normalized) time series we'll be performing predictions on."
   ]
  },
  {
   "cell_type": "code",
   "execution_count": 3,
   "metadata": {},
   "outputs": [
    {
     "data": {
      "text/plain": [
       "<matplotlib.text.Text at 0x7efea5a63710>"
      ]
     },
     "execution_count": 3,
     "metadata": {},
     "output_type": "execute_result"
    },
    {
     "data": {
      "image/png": "[encoded data removed]",
      "text/plain": [
       "<matplotlib.figure.Figure at 0x7eff283de320>"
      ]
     },
     "metadata": {},
     "output_type": "display_data"
    }
   ],
   "source": [
    "# lets take a look at our time series\n",
    "\n",
    "plt.plot(dataset)\n",
    "plt.xlabel('time period')\n",
    "plt.ylabel('normalized series value')"
   ]
  },
  {
   "cell_type": "markdown",
   "metadata": {},
   "source": [
    "## 1.2  Cutting our time series into sequences\n",
    "\n",
    "Remember, our time series is a sequence of numbers that we can represent in general mathematically as \n",
    "\n",
    "$$s_{0},s_{1},s_{2},...,s_{P}$$\n",
    "\n",
    "where $s_{p}$ is the numerical value of the time series at time period $p$ and where $P$ is the total length of the series.  In order to apply our RNN we treat the time series prediction problem as a regression problem, and so need to use a sliding window to construct a set of associated input/output pairs to regress on.  This process is animated in the gif below.\n",
    "\n",
    "<img src=\"images/timeseries_windowing_training.gif\" width=600 height=600/>\n",
    "\n",
    "For example - using a window of size T = 5 (as illustrated in the gif above) we produce a set of input/output pairs like the one shown in the table below\n",
    "\n",
    "$$\\begin{array}{c|c}\n",
    "\\text{Input} & \\text{Output}\\\\\n",
    "\\hline \\color{CornflowerBlue} {\\langle s_{1},s_{2},s_{3},s_{4},s_{5}\\rangle} & \\color{Goldenrod}{ s_{6}} \\\\\n",
    "\\ \\color{CornflowerBlue} {\\langle s_{2},s_{3},s_{4},s_{5},s_{6} \\rangle } & \\color{Goldenrod} {s_{7} } \\\\\n",
    "\\color{CornflowerBlue}  {\\vdots} & \\color{Goldenrod} {\\vdots}\\\\\n",
    "\\color{CornflowerBlue} { \\langle s_{P-5},s_{P-4},s_{P-3},s_{P-2},s_{P-1} \\rangle } & \\color{Goldenrod} {s_{P}}\n",
    "\\end{array}$$\n",
    "\n",
    "Notice here that each input is a sequence (or vector) of length 5 (and in general has length equal to the window size T) while each corresponding output is a scalar value.  Notice also how given a time series of length P and window size T = 5 as shown above, we created P - 5  input/output pairs.  More generally, for a window size T we create P - T such pairs."
   ]
  },
  {
   "cell_type": "markdown",
   "metadata": {},
   "source": [
    "Now its time for you to window the input time series as described above!  \n",
    "\n",
    "<a id='TODO_1'></a>\n",
    "\n",
    "**TODO:** Implement the function called **window_transform_series** in my_answers.py so that it runs a sliding window along the input series and creates associated input/output pairs.    Note that this function should input a) the series and b) the window length, and return the input/output subsequences.  Make sure to format returned input/output as generally shown in table above (where window_size = 5), and make sure your returned input is a numpy array.\n",
    "\n",
    "---"
   ]
  },
  {
   "cell_type": "markdown",
   "metadata": {},
   "source": [
    "You can test your function on the list of odd numbers given below"
   ]
  },
  {
   "cell_type": "code",
   "execution_count": 4,
   "metadata": {},
   "outputs": [
    {
     "name": "stdout",
     "output_type": "stream",
     "text": [
      "[[ 1  3]\n",
      " [ 3  5]\n",
      " [ 5  7]\n",
      " [ 7  9]\n",
      " [ 9 11]]\n",
      "[[ 5]\n",
      " [ 7]\n",
      " [ 9]\n",
      " [11]\n",
      " [13]]\n"
     ]
    }
   ],
   "source": [
    "odd_nums = np.array([1,3,5,7,9,11,13])\n",
    "X,y = window_transform_series(odd_nums,2)\n",
    "print(X)\n",
    "print(y)"
   ]
  },
  {
   "cell_type": "markdown",
   "metadata": {},
   "source": [
    "Here is a hard-coded solution for odd_nums.  You can compare its results with what you get from your **window_transform_series** implementation."
   ]
  },
  {
   "cell_type": "code",
   "execution_count": 5,
   "metadata": {},
   "outputs": [
    {
     "name": "stdout",
     "output_type": "stream",
     "text": [
      "--- the input X will look like ----\n",
      "[[ 1  3]\n",
      " [ 3  5]\n",
      " [ 5  7]\n",
      " [ 7  9]\n",
      " [ 9 11]]\n",
      "--- the associated output y will look like ----\n",
      "[[ 5]\n",
      " [ 7]\n",
      " [ 9]\n",
      " [11]\n",
      " [13]]\n"
     ]
    }
   ],
   "source": [
    "# run a window of size 2 over the odd number sequence and display the results\n",
    "window_size = 2\n",
    "\n",
    "X = []\n",
    "X.append(odd_nums[0:2])\n",
    "X.append(odd_nums[1:3])\n",
    "X.append(odd_nums[2:4])\n",
    "X.append(odd_nums[3:5])\n",
    "X.append(odd_nums[4:6])\n",
    "\n",
    "y = odd_nums[2:]\n",
    "\n",
    "X = np.asarray(X)\n",
    "y = np.asarray(y)\n",
    "y = np.reshape(y, (len(y),1)) #optional\n",
    "\n",
    "assert(type(X).__name__ == 'ndarray')\n",
    "assert(type(y).__name__ == 'ndarray')\n",
    "assert(X.shape == (5,2))\n",
    "assert(y.shape in [(5,1), (5,)])\n",
    "\n",
    "# print out input/output pairs --> here input = X, corresponding output = y\n",
    "print ('--- the input X will look like ----')\n",
    "print (X)\n",
    "\n",
    "print ('--- the associated output y will look like ----')\n",
    "print (y)"
   ]
  },
  {
   "cell_type": "markdown",
   "metadata": {},
   "source": [
    "Again - you can check that your completed **window_transform_series** function works correctly by trying it on the odd_nums sequence - you should get the above output."
   ]
  },
  {
   "cell_type": "code",
   "execution_count": 6,
   "metadata": {
    "collapsed": true
   },
   "outputs": [],
   "source": [
    "### TODO: implement the function window_transform_series in the file my_answers.py\n",
    "from my_answers import window_transform_series"
   ]
  },
  {
   "cell_type": "markdown",
   "metadata": {},
   "source": [
    "With this function in place apply it to the series in the Python cell below.  We use a window_size = 7 for these experiments."
   ]
  },
  {
   "cell_type": "code",
   "execution_count": 7,
   "metadata": {
    "collapsed": true
   },
   "outputs": [],
   "source": [
    "# window the data using your windowing function\n",
    "window_size = 7\n",
    "X,y = window_transform_series(series = dataset,window_size = window_size)"
   ]
  },
  {
   "cell_type": "markdown",
   "metadata": {},
   "source": [
    "## 1.3  Splitting into training and testing sets\n",
    "\n",
    "In order to perform proper testing on our dataset we will lop off the last 1/3 of it for validation (or testing).  This is that once we train our model we have something to test it on (like any regression problem!).  This splitting into training/testing sets is done in the cell below.\n",
    "\n",
    "Note how here we are **not** splitting the dataset *randomly* as one typically would do when validating a regression model.  This is because our input/output pairs *are related temporally*.   We don't want to validate our model by training on a random subset of the series and then testing on another random subset, as this simulates the scenario that we receive new points *within the timeframe of our training set*.  \n",
    "\n",
    "We want to train on one solid chunk of the series (in our case, the first full 2/3 of it), and validate on a later chunk (the last 1/3) as this simulates how we would predict *future* values of a time series."
   ]
  },
  {
   "cell_type": "code",
   "execution_count": 8,
   "metadata": {
    "collapsed": true
   },
   "outputs": [],
   "source": [
    "# split our dataset into training / testing sets\n",
    "train_test_split = int(np.ceil(2*len(y)/float(3)))   # set the split point\n",
    "\n",
    "# partition the training set\n",
    "X_train = X[:train_test_split,:]\n",
    "y_train = y[:train_test_split]\n",
    "\n",
    "# keep the last chunk for testing\n",
    "X_test = X[train_test_split:,:]\n",
    "y_test = y[train_test_split:]\n",
    "\n",
    "# NOTE: to use keras's RNN-LSTM module our input must be reshaped to [samples, window size, stepsize] \n",
    "X_train = np.asarray(np.reshape(X_train, (X_train.shape[0], window_size, 1)))\n",
    "X_test = np.asarray(np.reshape(X_test, (X_test.shape[0], window_size, 1)))"
   ]
  },
  {
   "cell_type": "markdown",
   "metadata": {},
   "source": [
    "<a id='TODO_2'></a>\n",
    "\n",
    "## 1.4  Build and run an RNN regression model\n",
    "\n",
    "Having created input/output pairs out of our time series and cut this into training/testing sets, we can now begin setting up our RNN.  We use Keras to quickly build a two hidden layer RNN of the following specifications\n",
    "\n",
    "- layer 1 uses an LSTM module with 5 hidden units (note here the input_shape = (window_size,1))\n",
    "- layer 2 uses a fully connected module with one unit\n",
    "- the 'mean_squared_error' loss should be used (remember: we are performing regression here)\n",
    "\n",
    "This can be constructed using just a few lines - see e.g., the [general Keras documentation](https://keras.io/getting-started/sequential-model-guide/) and the [LSTM documentation in particular](https://keras.io/layers/recurrent/) for examples of how to quickly use Keras to build neural network models.  Make sure you are initializing your optimizer given the [keras-recommended approach for RNNs](https://keras.io/optimizers/) \n",
    "\n",
    "(given in the cell below).  (remember to copy your completed function into the script *my_answers.py* function titled *build_part1_RNN* before submitting your project)"
   ]
  },
  {
   "cell_type": "code",
   "execution_count": 9,
   "metadata": {},
   "outputs": [
    {
     "name": "stdout",
     "output_type": "stream",
     "text": [
      "_________________________________________________________________\n",
      "Layer (type)                 Output Shape              Param #   \n",
      "=================================================================\n",
      "lstm_1 (LSTM)                (None, 5)                 140       \n",
      "_________________________________________________________________\n",
      "dense_1 (Dense)              (None, 1)                 6         \n",
      "=================================================================\n",
      "Total params: 146.0\n",
      "Trainable params: 146\n",
      "Non-trainable params: 0.0\n",
      "_________________________________________________________________\n"
     ]
    }
   ],
   "source": [
    "### TODO: create required RNN model\n",
    "# import keras network libraries\n",
    "from keras.models import Sequential\n",
    "from keras.layers import Dense\n",
    "from keras.layers import LSTM\n",
    "import keras\n",
    "\n",
    "# given - fix random seed - so we can all reproduce the same results on our default time series\n",
    "np.random.seed(0)\n",
    "\n",
    "\n",
    "# TODO: implement build_part1_RNN in my_answers.py\n",
    "from my_answers import build_part1_RNN\n",
    "model = build_part1_RNN(window_size)\n",
    "\n",
    "# build model using keras documentation recommended optimizer initialization\n",
    "optimizer = keras.optimizers.RMSprop(lr=0.001, rho=0.9, epsilon=1e-08, decay=0.0)\n",
    "\n",
    "# compile the model\n",
    "model.compile(loss='mean_squared_error', optimizer=optimizer)\n",
    "\n",
    "model.summary()"
   ]
  },
  {
   "cell_type": "markdown",
   "metadata": {},
   "source": [
    "With your model built you can now fit the model by activating the cell below!  Note: the number of epochs (np_epochs) and batch_size are preset (so we can all produce the same results).  You can choose to toggle the verbose parameter - which gives you regular updates on the progress of the algorithm - on and off by setting it to 1 or 0 respectively."
   ]
  },
  {
   "cell_type": "code",
   "execution_count": 10,
   "metadata": {
    "scrolled": false
   },
   "outputs": [
    {
     "name": "stdout",
     "output_type": "stream",
     "text": [
      "Runtime: 0 min 33 sec\n"
     ]
    }
   ],
   "source": [
    "# run your model!\n",
    "start = time.time()\n",
    "callback_inst = Callback_Func((X_train, y_train), (X_test, y_test), start, wanna_plot=False)\n",
    "\n",
    "model.fit(X_train, y_train, epochs=1000, callbacks=[callback_inst], batch_size=64, verbose=0)\n",
    "\n",
    "print_runtime(start)"
   ]
  },
  {
   "cell_type": "code",
   "execution_count": 11,
   "metadata": {},
   "outputs": [
    {
     "data": {
      "image/png": "[encoded data removed]",
      "text/plain": [
       "<matplotlib.figure.Figure at 0x7efea59aa438>"
      ]
     },
     "metadata": {},
     "output_type": "display_data"
    }
   ],
   "source": [
    "callback_inst.plotter()"
   ]
  },
  {
   "cell_type": "markdown",
   "metadata": {},
   "source": [
    "> ### N.B. **Validation Error consistently lower than Training Error ???!!!**"
   ]
  },
  {
   "cell_type": "markdown",
   "metadata": {},
   "source": [
    "## 1.5  Checking model performance\n",
    "\n",
    "With your model fit we can now make predictions on both our training and testing sets."
   ]
  },
  {
   "cell_type": "code",
   "execution_count": 12,
   "metadata": {
    "collapsed": true
   },
   "outputs": [],
   "source": [
    "# generate predictions for training\n",
    "train_predict = model.predict(X_train)\n",
    "test_predict = model.predict(X_test)"
   ]
  },
  {
   "cell_type": "markdown",
   "metadata": {},
   "source": [
    "In the next cell we compute training and testing errors using our trained model - you should be able to achieve at least\n",
    "\n",
    "*training_error* < 0.02\n",
    "\n",
    "and \n",
    "\n",
    "*testing_error* < 0.02\n",
    "\n",
    "with your fully trained model.  \n",
    "\n",
    "If either or both of your accuracies are larger than 0.02 re-train your model - increasing the number of epochs you take (a maximum of around 1,000 should do the job) and/or adjusting your batch_size."
   ]
  },
  {
   "cell_type": "code",
   "execution_count": 13,
   "metadata": {},
   "outputs": [
    {
     "name": "stdout",
     "output_type": "stream",
     "text": [
      "training error = 0.0162313091145\n",
      "testing error = 0.0139068996231\n"
     ]
    }
   ],
   "source": [
    "# print out training and testing errors\n",
    "training_error = model.evaluate(X_train, y_train, verbose=0)\n",
    "print('training error = ' + str(training_error))\n",
    "\n",
    "testing_error = model.evaluate(X_test, y_test, verbose=0)\n",
    "print('testing error = ' + str(testing_error))"
   ]
  },
  {
   "cell_type": "markdown",
   "metadata": {},
   "source": [
    "Activating the next cell plots the original data, as well as both predictions on the training and testing sets. "
   ]
  },
  {
   "cell_type": "code",
   "execution_count": 14,
   "metadata": {},
   "outputs": [
    {
     "data": {
      "image/png": "[encoded data removed]",
      "text/plain": [
       "<matplotlib.figure.Figure at 0x7efe87ab9978>"
      ]
     },
     "metadata": {},
     "output_type": "display_data"
    }
   ],
   "source": [
    "### Plot everything - the original series as well as predictions on training and testing sets\n",
    "\n",
    "# plot original series\n",
    "plt.plot(dataset,color = 'k')\n",
    "\n",
    "# plot training set prediction\n",
    "split_pt = train_test_split + window_size \n",
    "plt.plot(np.arange(window_size,split_pt,1),train_predict,color = 'b')\n",
    "\n",
    "# plot testing set prediction\n",
    "plt.plot(np.arange(split_pt,split_pt + len(test_predict),1),test_predict,color = 'r')\n",
    "\n",
    "# pretty up graph\n",
    "plt.xlabel('day')\n",
    "plt.ylabel('(normalized) price of Apple stock')\n",
    "plt.legend(['original series','training fit','testing fit'],loc='center left', bbox_to_anchor=(1, 0.5))\n",
    "plt.show()"
   ]
  },
  {
   "cell_type": "markdown",
   "metadata": {},
   "source": [
    "**Note:** you can try out any time series for this exercise!  If you would like to try another see e.g., [this site containing thousands of time series](https://datamarket.com/data/list/?q=provider%3Atsdl) and pick another one!"
   ]
  },
  {
   "cell_type": "markdown",
   "metadata": {},
   "source": [
    "# Problem 2: Create a sequence generator"
   ]
  },
  {
   "cell_type": "markdown",
   "metadata": {},
   "source": [
    "## 2.1  Getting started\n",
    "\n",
    "In this project you will implement a popular Recurrent Neural Network (RNN) architecture to create an English language sequence generator capable of building semi-coherent English sentences from scratch by building them up character-by-character.  This will require a substantial amount amount of parameter tuning on a large training corpus (at least 100,000 characters long).  In particular for this project we will be using a complete version of Sir Arthur Conan Doyle's classic book The Adventures of Sherlock Holmes.\n",
    "\n",
    "How can we train a machine learning model to generate text automatically, character-by-character?  *By showing the model many training examples so it can learn a pattern between input and output.*  With this type of text generation each input is a string of valid characters like this one\n",
    "\n",
    "*dogs are grea*\n",
    "\n",
    "while the corresponding output is the next character in the sentence - which here is 't' (since the complete sentence is 'dogs are great').  We need to show a model many such examples in order for it to make reasonable predictions.\n",
    "\n",
    "**Fun note:** For those interested in how text generation is being used check out some of the following fun resources:\n",
    "\n",
    "- [Generate wacky sentences](http://www.cs.toronto.edu/~ilya/rnn.html) with this academic RNN text generator\n",
    "\n",
    "- Various twitter bots that tweet automatically generated text like[this one](http://tweet-generator-alex.herokuapp.com/).\n",
    "\n",
    "- the [NanoGenMo](https://github.com/NaNoGenMo/2016) annual contest to automatically produce a 50,000+ novel automatically\n",
    "\n",
    "- [Robot Shakespeare](https://github.com/genekogan/RobotShakespeare) a text generator that automatically produces Shakespear-esk sentences"
   ]
  },
  {
   "cell_type": "markdown",
   "metadata": {},
   "source": [
    "## 2.2  Preprocessing a text dataset\n",
    "\n",
    "Our first task is to get a large text corpus for use in training, and on it we perform a several light pre-processing tasks.  The default corpus we will use is the classic book Sherlock Holmes, but you can use a variety of others as well - so long as they are fairly large (around 100,000 characters or more).  "
   ]
  },
  {
   "cell_type": "code",
   "execution_count": 15,
   "metadata": {},
   "outputs": [
    {
     "name": "stdout",
     "output_type": "stream",
     "text": [
      "our original text has 581864 characters\n"
     ]
    }
   ],
   "source": [
    "# read in the text, transforming everything to lower case\n",
    "text = open('datasets/holmes.txt').read().lower()\n",
    "print('our original text has ' + str(len(text)) + ' characters')"
   ]
  },
  {
   "cell_type": "markdown",
   "metadata": {},
   "source": [
    "Next, lets examine a bit of the raw text.  Because we are interested in creating sentences of English words automatically by building up each word character-by-character, we only want to train on valid English words.  In other words - we need to remove all of the other characters that are not part of English words."
   ]
  },
  {
   "cell_type": "code",
   "execution_count": 16,
   "metadata": {},
   "outputs": [
    {
     "data": {
      "text/plain": [
       "\"\\ufeffproject gutenberg's the adventures of sherlock holmes, by arthur conan doyle\\n\\nthis ebook is for the use of anyone anywhere at no cost and with\\nalmost no restrictions whatsoever.  you may copy it, give it away or\\nre-use it under the terms of the project gutenberg license included\\nwith this ebook or online at www.gutenberg.net\\n\\n\\ntitle: the adventures of sherlock holmes\\n\\nauthor: arthur conan doyle\\n\\nposting date: april 18, 2011 [ebook #1661]\\nfirst posted: november 29, 2002\\n\\nlanguage: english\\n\\n\\n*** start of this project gutenberg ebook the adventures of sherlock holmes ***\\n\\n\\n\\n\\nproduced by an anonymous project gutenberg volunteer and jose menendez\\n\\n\\n\\n\\n\\n\\n\\n\\n\\nthe adventures of sherlock holmes\\n\\nby\\n\\nsir arthur conan doyle\\n\\n\\n\\n   i. a scandal in bohemia\\n  ii. the red-headed league\\n iii. a case of identity\\n  iv. the boscombe valley mystery\\n   v. the five orange pips\\n  vi. the man with the twisted lip\\n vii. the adventure of the blue carbuncle\\nviii. the adventure of the speckled band\\n  ix. the advent\""
      ]
     },
     "execution_count": 16,
     "metadata": {},
     "output_type": "execute_result"
    }
   ],
   "source": [
    "### print out the first 1000 characters of the raw text to get a sense of what we need to throw out\n",
    "text[:1000]"
   ]
  },
  {
   "cell_type": "markdown",
   "metadata": {},
   "source": [
    "Wow - there's a lot of junk here (i.e., weird uncommon character combinations - as this first character chunk contains the title and author page, as well as table of contents)!  To keep things simple, we want to train our RNN on a large chunk of more typical English sentences - we don't want it to start thinking non-english words or strange characters are valid! - so lets clean up the data a bit.\n",
    "\n",
    "First, since the dataset is so large and the first few hundred characters contain a lot of junk, lets cut it out.  Lets also find-and-replace those newline tags with empty spaces."
   ]
  },
  {
   "cell_type": "code",
   "execution_count": 17,
   "metadata": {
    "collapsed": true
   },
   "outputs": [],
   "source": [
    "### find and replace '\\n' and '\\r' symbols - replacing them \n",
    "text = text[1302:]\n",
    "text = text.replace('\\n',' ')    # replacing '\\n' with '' simply removes the sequence\n",
    "text = text.replace('\\r',' ')"
   ]
  },
  {
   "cell_type": "markdown",
   "metadata": {},
   "source": [
    "Lets see how the first 1000 characters of our text looks now!"
   ]
  },
  {
   "cell_type": "code",
   "execution_count": 19,
   "metadata": {},
   "outputs": [
    {
     "data": {
      "text/plain": [
       "\"is eyes she eclipses and predominates the whole of her sex. it was not that he felt any emotion akin to love for irene adler. all emotions, and that one particularly, were abhorrent to his cold, precise but admirably balanced mind. he was, i take it, the most perfect reasoning and observing machine that the world has seen, but as a lover he would have placed himself in a false position. he never spoke of the softer passions, save with a gibe and a sneer. they were admirable things for the observer--excellent for drawing the veil from men's motives and actions. but for the trained reasoner to admit such intrusions into his own delicate and finely adjusted temperament was to introduce a distracting factor which might throw a doubt upon all his mental results. grit in a sensitive instrument, or a crack in one of his own high-power lenses, would not be more disturbing than a strong emotion in a nature such as his. and yet there was but one woman to him, and that woman was the late irene ad\""
      ]
     },
     "execution_count": 19,
     "metadata": {},
     "output_type": "execute_result"
    }
   ],
   "source": [
    "### print out the first 1000 characters of the raw text to get a sense of what we need to throw out\n",
    "text[:1000]"
   ]
  },
  {
   "cell_type": "markdown",
   "metadata": {},
   "source": [
    "<a id='TODO_3'></a>\n",
    "\n",
    "#### TODO: finish cleaning the text\n",
    "\n",
    "Lets make sure we haven't left any other atypical characters (commas, periods, etc., are ok) lurking around in the depths of the text.  You can do this by enumerating all the text's unique characters, examining them, and then replacing any unwanted characters with empty spaces!  Once we find all of the text's unique characters, we can remove all of the atypical ones in the next cell.  Note: don't remove the punctuation marks given in my_answers.py."
   ]
  },
  {
   "cell_type": "code",
   "execution_count": 20,
   "metadata": {},
   "outputs": [
    {
     "name": "stdout",
     "output_type": "stream",
     "text": [
      "58  unique characters in original text\n"
     ]
    },
    {
     "data": {
      "text/plain": [
       "[('à', 1),\n",
       " ('â', 1),\n",
       " ('è', 1),\n",
       " ('%', 1),\n",
       " ('@', 2),\n",
       " ('$', 2),\n",
       " ('&', 5),\n",
       " ('é', 12),\n",
       " ('9', 22),\n",
       " ('*', 22),\n",
       " ('7', 24),\n",
       " ('(', 25),\n",
       " (')', 25),\n",
       " ('3', 27),\n",
       " ('/', 27),\n",
       " ('5', 28),\n",
       " ('6', 29),\n",
       " ('4', 31),\n",
       " ('2', 43),\n",
       " ('8', 48),\n",
       " (':', 76),\n",
       " ('0', 99),\n",
       " ('1', 127),\n",
       " ('z', 152),\n",
       " (';', 202),\n",
       " ('!', 346),\n",
       " ('q', 437),\n",
       " ('j', 539),\n",
       " ('x', 573),\n",
       " ('?', 737),\n",
       " ('-', 1218),\n",
       " (\"'\", 1500),\n",
       " ('k', 3671),\n",
       " ('v', 4549),\n",
       " ('\"', 5115),\n",
       " ('.', 6406),\n",
       " ('b', 6613),\n",
       " ('p', 7269),\n",
       " (',', 7781),\n",
       " ('g', 8281),\n",
       " ('f', 9346),\n",
       " ('y', 9740),\n",
       " ('c', 11074),\n",
       " ('w', 11522),\n",
       " ('m', 12133),\n",
       " ('u', 13602),\n",
       " ('l', 17600),\n",
       " ('d', 19064),\n",
       " ('r', 25622),\n",
       " ('s', 27915),\n",
       " ('h', 29518),\n",
       " ('n', 29665),\n",
       " ('i', 31191),\n",
       " ('o', 34790),\n",
       " ('a', 36081),\n",
       " ('t', 40425),\n",
       " ('e', 54796),\n",
       " (' ', 110411)]"
      ]
     },
     "execution_count": 20,
     "metadata": {},
     "output_type": "execute_result"
    }
   ],
   "source": [
    "# Construct a dictionary 'dic' that has the characters in its key and number of occurances in its value.\n",
    "\n",
    "def character_counter(text):\n",
    "    from collections import defaultdict\n",
    "    chars = sorted(list(set(text)))\n",
    "    dic  = defaultdict(int)\n",
    "    for i, c in enumerate(text):\n",
    "        dic[c] += 1\n",
    "\n",
    "    return dic\n",
    "# ..................................\n",
    "\n",
    "dic = character_counter(text)\n",
    "print(len(dic), ' unique characters in original text')\n",
    "sorted(dic.items(), key=lambda x: x[1])"
   ]
  },
  {
   "cell_type": "code",
   "execution_count": 21,
   "metadata": {},
   "outputs": [
    {
     "name": "stdout",
     "output_type": "stream",
     "text": [
      "580562, 573686, 570924, 570611, 570589, 570580, 570577, "
     ]
    }
   ],
   "source": [
    "### TODO: implement cleaned_text in my_answers.py\n",
    "text = cleaned_text(text)\n",
    "\n",
    "# shorten any extra dead space created above\n",
    "\n",
    "# recursively clean any consecutive whitespaces.\n",
    "def white_space_reducer(text):\n",
    "    l_new = 0\n",
    "    l_old = len(text)\n",
    "    \n",
    "    while not l_old == l_new:\n",
    "        print(len(text), end=', ')\n",
    "        l_old = l_new\n",
    "        text = text.replace('  ',' ')\n",
    "        l_new = len(text)\n",
    "\n",
    "    return text\n",
    "\n",
    "# ......................................................\n",
    "\n",
    "text = white_space_reducer(text)"
   ]
  },
  {
   "cell_type": "code",
   "execution_count": 22,
   "metadata": {},
   "outputs": [
    {
     "name": "stdout",
     "output_type": "stream",
     "text": [
      "33\n",
      "Total no of characters removed: 25\n",
      "Remaining characters:\n"
     ]
    },
    {
     "data": {
      "text/plain": [
       "[(':', 76),\n",
       " ('z', 152),\n",
       " (';', 202),\n",
       " ('!', 346),\n",
       " ('q', 437),\n",
       " ('j', 539),\n",
       " ('x', 573),\n",
       " ('?', 737),\n",
       " ('k', 3671),\n",
       " ('v', 4549),\n",
       " ('.', 6406),\n",
       " ('b', 6613),\n",
       " ('p', 7269),\n",
       " (',', 7781),\n",
       " ('g', 8281),\n",
       " ('f', 9346),\n",
       " ('y', 9740),\n",
       " ('c', 11074),\n",
       " ('w', 11522),\n",
       " ('m', 12133),\n",
       " ('u', 13602),\n",
       " ('l', 17600),\n",
       " ('d', 19064),\n",
       " ('r', 25622),\n",
       " ('s', 27915),\n",
       " ('h', 29518),\n",
       " ('n', 29665),\n",
       " ('i', 31191),\n",
       " ('o', 34790),\n",
       " ('a', 36083),\n",
       " ('t', 40425),\n",
       " ('e', 54809),\n",
       " (' ', 108846)]"
      ]
     },
     "execution_count": 22,
     "metadata": {},
     "output_type": "execute_result"
    }
   ],
   "source": [
    "dic2 = character_counter(text)\n",
    "print(len(dic2))\n",
    "print('Total no of characters removed: %i' % (len(dic)-len(dic2)))\n",
    "print('Remaining characters:')\n",
    "sorted(dic2.items(), key=lambda x: x[1])"
   ]
  },
  {
   "cell_type": "markdown",
   "metadata": {},
   "source": [
    "With your chosen characters removed print out the first few hundred lines again just to double check that everything looks good."
   ]
  },
  {
   "cell_type": "code",
   "execution_count": 23,
   "metadata": {},
   "outputs": [
    {
     "data": {
      "text/plain": [
       "'is eyes she eclipses and predominates the whole of her sex. it was not that he felt any emotion akin to love for irene adler. all emotions, and that one particularly, were abhorrent to his cold, precise but admirably balanced mind. he was, i take it, the most perfect reasoning and observing machine that the world has seen, but as a lover he would have placed himself in a false position. he never spoke of the softer passions, save with a gibe and a sneer. they were admirable things for the observer excellent for drawing the veil from men s motives and actions. but for the trained reasoner to admit such intrusions into his own delicate and finely adjusted temperament was to introduce a distracting factor which might throw a doubt upon all his mental results. grit in a sensitive instrument, or a crack in one of his own high power lenses, would not be more disturbing than a strong emotion in a nature such as his. and yet there was but one woman to him, and that woman was the late irene adler, of dubious and questionable memory. i had seen little of holmes lately. my marriage had drifted us away from each other. my own complete happiness, and the home centred interests which rise up around the man who first finds himself master of his own establishment, were sufficient to absorb all my attention, while holmes, who loathed every form of society with his whole bohemian soul, remained in our lodgings in baker street, buried among his old books, and alternating from week to week between cocaine and ambition, the drowsiness of the drug, and the fierce energy of his own keen nature. he was still, as ever, deeply attracted by the study of crime, and occupied his immense faculties and extraordinary powers of observation in following out those clues, and clearing up those mysteries which had been abandoned as hopeless by the official police. from time to time i heard some vague account of his doings: of his summons to odessa in the case of the trepoff murder, of his clearing up o'"
      ]
     },
     "execution_count": 23,
     "metadata": {},
     "output_type": "execute_result"
    }
   ],
   "source": [
    "### print out the first 2000 characters of the raw text to get a sense of what we need to throw out\n",
    "text[:2000]"
   ]
  },
  {
   "cell_type": "markdown",
   "metadata": {},
   "source": [
    "Now that we have thrown out a good number of non-English characters/character sequences lets print out some statistics about the dataset - including number of total characters and number of unique characters."
   ]
  },
  {
   "cell_type": "code",
   "execution_count": 24,
   "metadata": {},
   "outputs": [
    {
     "name": "stdout",
     "output_type": "stream",
     "text": [
      "this corpus has 570577 total number of characters\n",
      "this corpus has 33 unique characters\n"
     ]
    }
   ],
   "source": [
    "# count the number of unique characters in the text\n",
    "chars = sorted(list(set(text)))\n",
    "\n",
    "# print some of the text, as well as statistics\n",
    "print (\"this corpus has \" +  str(len(text)) + \" total number of characters\")\n",
    "print (\"this corpus has \" +  str(len(chars)) + \" unique characters\")"
   ]
  },
  {
   "cell_type": "markdown",
   "metadata": {},
   "source": [
    "## 2.3  Cutting data into input/output pairs\n",
    "\n",
    "Now that we have our text all cleaned up, how can we use it to train a model to generate sentences automatically?  First we need to train a machine learning model - and in order to do that we need a set of input/output pairs for a model to train on.  How can we create a set of input/output pairs from our text to train on?\n",
    "\n",
    "Remember in part 1 of this notebook how we used a sliding window to extract input/output pairs from a time series?  We do the same thing here!  We slide a window of length $T$ along our giant text corpus - everything in the window becomes one input while the character following becomes its corresponding output.  This process of extracting input/output pairs is illustrated in the gif below on a small example text using a window size of T = 5.\n",
    "\n",
    "<img src=\"images/text_windowing_training.gif\" width=400 height=400/>\n",
    "\n",
    "Notice one aspect of the sliding window in this gif that does not mirror the analogous gif for time series shown in part 1 of the notebook - we do not need to slide the window along one character at a time but can move by a fixed step size $M$ greater than 1 (in the gif indeed $M = 1$).  This is done with large input texts (like ours which has over 500,000 characters!) when sliding the window along one character at a time we would create far too many input/output pairs to be able to reasonably compute with.\n",
    "\n",
    "More formally lets denote our text corpus - which is one long string of characters - as follows\n",
    "\n",
    "$$s_{0},s_{1},s_{2},...,s_{P}$$\n",
    "\n",
    "where $P$ is the length of the text (again for our text $P \\approx 500,000!$).  Sliding a window of size T = 5 with a step length of M = 1 (these are the parameters shown in the gif above) over this sequence produces the following list of input/output pairs\n",
    "\n",
    "\n",
    "$$\\begin{array}{c|c}\n",
    "\\text{Input} & \\text{Output}\\\\\n",
    "\\hline \\color{CornflowerBlue} {\\langle s_{1},s_{2},s_{3},s_{4},s_{5}\\rangle} & \\color{Goldenrod}{ s_{6}} \\\\\n",
    "\\ \\color{CornflowerBlue} {\\langle s_{2},s_{3},s_{4},s_{5},s_{6} \\rangle } & \\color{Goldenrod} {s_{7} } \\\\\n",
    "\\color{CornflowerBlue}  {\\vdots} & \\color{Goldenrod} {\\vdots}\\\\\n",
    "\\color{CornflowerBlue} { \\langle s_{P-5},s_{P-4},s_{P-3},s_{P-2},s_{P-1} \\rangle } & \\color{Goldenrod} {s_{P}}\n",
    "\\end{array}$$\n",
    "\n",
    "Notice here that each input is a sequence (or vector) of 5 characters (and in general has length equal to the window size T) while each corresponding output is a single character.  We created around P total number of input/output pairs  (for general step size M we create around ceil(P/M) pairs)."
   ]
  },
  {
   "cell_type": "markdown",
   "metadata": {},
   "source": [
    "<a id='TODO_4'></a>\n",
    "\n",
    "Now its time for you to window the input time series as described above! \n",
    "\n",
    "**TODO:** Create a function that runs a sliding window along the input text and creates associated input/output pairs.  A skeleton function has been provided for you.  Note that this function should input a) the text  b) the window size and c) the step size, and return the input/output sequences.  Note: the return items should be *lists* - not numpy arrays.\n",
    "\n",
    "(remember to copy your completed function into the script *my_answers.py* function titled *window_transform_text* before submitting your project)"
   ]
  },
  {
   "cell_type": "code",
   "execution_count": 25,
   "metadata": {
    "collapsed": true
   },
   "outputs": [],
   "source": [
    "### TODO: implement window_transform_series in my_answers.py\n",
    "from my_answers import window_transform_series"
   ]
  },
  {
   "cell_type": "markdown",
   "metadata": {},
   "source": [
    "With our function complete we can now use it to produce input/output pairs!  We employ the function in the next cell, where the window_size = 50 and step_size = 5."
   ]
  },
  {
   "cell_type": "code",
   "execution_count": 26,
   "metadata": {
    "collapsed": true
   },
   "outputs": [],
   "source": [
    "# run your text window-ing function \n",
    "window_size = 100\n",
    "step_size = 5\n",
    "inputs, outputs = window_transform_text(text,window_size,step_size)"
   ]
  },
  {
   "cell_type": "markdown",
   "metadata": {},
   "source": [
    "Lets print out a few input/output pairs to verify that we have made the right sort of stuff!"
   ]
  },
  {
   "cell_type": "code",
   "execution_count": 27,
   "metadata": {},
   "outputs": [
    {
     "name": "stdout",
     "output_type": "stream",
     "text": [
      "input = e eclipses and predominates the whole of her sex. it was not that he felt any emotion akin to love f\n",
      "output = o\n",
      "--------------\n",
      "input = er excellent for drawing the veil from men s motives and actions. but for the trained reasoner to ad\n",
      "output = m\n"
     ]
    }
   ],
   "source": [
    "# print out a few of the input/output pairs to verify that we've made the right kind of stuff to learn from\n",
    "print('input = ' + inputs[2])\n",
    "print('output = ' + outputs[2])\n",
    "print('--------------')\n",
    "print('input = ' + inputs[100])\n",
    "print('output = ' + outputs[100])"
   ]
  },
  {
   "cell_type": "markdown",
   "metadata": {},
   "source": [
    "Looks good!"
   ]
  },
  {
   "cell_type": "markdown",
   "metadata": {},
   "source": [
    "## 2.4  Wait, what kind of problem is text generation again?\n",
    "\n",
    "In part 1 of this notebook we used the same pre-processing technique - the sliding window - to produce a set of training input/output pairs to tackle the problem of time series prediction *by treating the problem as one of regression*.  So what sort of problem do we have here now, with text generation?  Well, the time series prediction was a regression problem because the output (one value of the time series) was a continuous value.  Here - for character-by-character text generation - each output is a *single character*.  This isn't a continuous value - but a distinct class - therefore **character-by-character text generation is a classification problem**.  \n",
    "\n",
    "How many classes are there in the data?  Well, the number of classes is equal to the number of unique characters we have to predict!  How many of those were there in our dataset again?  Lets print out the value again."
   ]
  },
  {
   "cell_type": "code",
   "execution_count": 28,
   "metadata": {},
   "outputs": [
    {
     "name": "stdout",
     "output_type": "stream",
     "text": [
      "this corpus has 33 unique characters\n",
      "and these characters are \n",
      "[' ', '!', ',', '.', ':', ';', '?', 'a', 'b', 'c', 'd', 'e', 'f', 'g', 'h', 'i', 'j', 'k', 'l', 'm', 'n', 'o', 'p', 'q', 'r', 's', 't', 'u', 'v', 'w', 'x', 'y', 'z']\n"
     ]
    }
   ],
   "source": [
    "# print out the number of unique characters in the dataset\n",
    "chars = sorted(list(set(text)))\n",
    "print (\"this corpus has \" +  str(len(chars)) + \" unique characters\")\n",
    "print ('and these characters are ')\n",
    "print (chars)"
   ]
  },
  {
   "cell_type": "markdown",
   "metadata": {},
   "source": [
    "Rockin' - so we have a multiclass classification problem on our hands!"
   ]
  },
  {
   "cell_type": "markdown",
   "metadata": {},
   "source": [
    "## 2.5  One-hot encoding characters\n",
    "\n",
    "The last issue we have to deal with is representing our text data as numerical data so that we can use it as an input to a neural network. One of the conceptually simplest ways of doing this is via a 'one-hot encoding' scheme.  Here's how it works.\n",
    "\n",
    "We transform each character in our inputs/outputs into a vector with length equal to the number of unique characters in our text.  This vector is all zeros except one location where we place a 1 - and this location is unique to each character type.  e.g., we transform 'a', 'b', and 'c' as follows\n",
    "\n",
    "$$a\\longleftarrow\\left[\\begin{array}{c}\n",
    "1\\\\\n",
    "0\\\\\n",
    "0\\\\\n",
    "\\vdots\\\\\n",
    "0\\\\\n",
    "0\n",
    "\\end{array}\\right]\\,\\,\\,\\,\\,\\,\\,b\\longleftarrow\\left[\\begin{array}{c}\n",
    "0\\\\\n",
    "1\\\\\n",
    "0\\\\\n",
    "\\vdots\\\\\n",
    "0\\\\\n",
    "0\n",
    "\\end{array}\\right]\\,\\,\\,\\,\\,c\\longleftarrow\\left[\\begin{array}{c}\n",
    "0\\\\\n",
    "0\\\\\n",
    "1\\\\\n",
    "\\vdots\\\\\n",
    "0\\\\\n",
    "0 \n",
    "\\end{array}\\right]\\cdots$$\n",
    "\n",
    "where each vector has 32 entries (or in general: number of entries = number of unique characters in text)."
   ]
  },
  {
   "cell_type": "markdown",
   "metadata": {},
   "source": [
    "The first practical step towards doing this one-hot encoding is to form a dictionary mapping each unique character to a unique integer, and one dictionary to do the reverse mapping.  We can then use these dictionaries to quickly make our one-hot encodings, as well as re-translate (from integers to characters) the results of our trained RNN classification model."
   ]
  },
  {
   "cell_type": "code",
   "execution_count": 29,
   "metadata": {
    "collapsed": true
   },
   "outputs": [],
   "source": [
    "# this dictionary is a function mapping each unique character to a unique integer\n",
    "chars_to_indices = dict((c, i) for i, c in enumerate(chars))  # map each unique character to unique integer\n",
    "\n",
    "# this dictionary is a function mapping each unique integer back to a unique character\n",
    "indices_to_chars = dict((i, c) for i, c in enumerate(chars))  # map each unique integer back to unique character"
   ]
  },
  {
   "cell_type": "markdown",
   "metadata": {},
   "source": [
    "Now we can transform our input/output pairs - consisting of characters - to equivalent input/output pairs made up of one-hot encoded vectors.  In the next cell we provide a function for doing just this: it takes in the raw character input/outputs and returns their numerical versions.  In particular the numerical input is given as $\\bf{X}$, and numerical output is given as the $\\bf{y}$"
   ]
  },
  {
   "cell_type": "code",
   "execution_count": 30,
   "metadata": {
    "collapsed": true
   },
   "outputs": [],
   "source": [
    "# transform character-based input/output into equivalent numerical versions\n",
    "def encode_io_pairs(text, window_size, step_size):\n",
    "    # number of unique chars\n",
    "    chars = sorted(list(set(text)))\n",
    "    num_chars = len(chars)\n",
    "    \n",
    "    # cut up text into character input/output pairs\n",
    "    inputs, outputs = window_transform_text(text,window_size,step_size)\n",
    "    \n",
    "    # create empty vessels for one-hot encoded input/output\n",
    "    X = np.zeros((len(inputs), window_size, num_chars), dtype=np.bool)\n",
    "    y = np.zeros((len(inputs), num_chars), dtype=np.bool)\n",
    "    \n",
    "    # loop over inputs/outputs and transform and store in X/y\n",
    "    for i, sentence in enumerate(inputs):\n",
    "        for t, char in enumerate(sentence):\n",
    "            X[i, t, chars_to_indices[char]] = 1\n",
    "        y[i, chars_to_indices[outputs[i]]] = 1\n",
    "        \n",
    "    return X,y"
   ]
  },
  {
   "cell_type": "markdown",
   "metadata": {},
   "source": [
    "Now run the one-hot encoding function by activating the cell below and transform our input/output pairs!"
   ]
  },
  {
   "cell_type": "code",
   "execution_count": 42,
   "metadata": {},
   "outputs": [
    {
     "data": {
      "text/plain": [
       "(570477, 100, 33)"
      ]
     },
     "execution_count": 42,
     "metadata": {},
     "output_type": "execute_result"
    }
   ],
   "source": [
    "# use your function\n",
    "\n",
    "X,y = encode_io_pairs(text, window_size=100, step_size=1)\n",
    "X.shape"
   ]
  },
  {
   "cell_type": "markdown",
   "metadata": {},
   "source": [
    "<a id='TODO_5'></a>\n",
    "\n",
    "## 2.6 Setting up our RNN\n",
    "\n",
    "With our dataset loaded and the input/output pairs extracted / transformed we can now begin setting up our RNN for training.  Again we will use Keras to quickly build a single hidden layer RNN - where our hidden layer consists of LSTM modules.\n",
    "\n",
    "Time to get to work: build a 3 layer RNN model of the following specification\n",
    "\n",
    "- layer 1 should be an LSTM module with 200 hidden units --> note this should have input_shape = (window_size,len(chars)) where len(chars) = number of unique characters in your cleaned text\n",
    "- layer 2 should be a linear module, fully connected, with len(chars) hidden units --> where len(chars) = number of unique characters in your cleaned text\n",
    "- layer 3 should be a softmax activation ( since we are solving a *multiclass classification*)\n",
    "- Use the **categorical_crossentropy** loss \n",
    "\n",
    "This network can be constructed using just a few lines - as with the RNN network you made in part 1 of this notebook.  See e.g., the [general Keras documentation](https://keras.io/getting-started/sequential-model-guide/) and the [LSTM documentation in particular](https://keras.io/layers/recurrent/) for examples of how to quickly use Keras to build neural network models."
   ]
  },
  {
   "cell_type": "code",
   "execution_count": 43,
   "metadata": {},
   "outputs": [
    {
     "name": "stdout",
     "output_type": "stream",
     "text": [
      "_________________________________________________________________\n",
      "Layer (type)                 Output Shape              Param #   \n",
      "=================================================================\n",
      "lstm_4 (LSTM)                (None, 100, 256)          296960    \n",
      "_________________________________________________________________\n",
      "lstm_5 (LSTM)                (None, 256)               525312    \n",
      "_________________________________________________________________\n",
      "dense_4 (Dense)              (None, 33)                8481      \n",
      "=================================================================\n",
      "Total params: 830,753.0\n",
      "Trainable params: 830,753\n",
      "Non-trainable params: 0.0\n",
      "_________________________________________________________________\n"
     ]
    }
   ],
   "source": [
    "### necessary functions from the keras library\n",
    "from keras.models import Sequential\n",
    "from keras.layers import Dense, Activation, LSTM\n",
    "from keras.optimizers import RMSprop\n",
    "from keras.utils.data_utils import get_file\n",
    "import keras\n",
    "import random\n",
    "\n",
    "np.random.seed(2)\n",
    "\n",
    "# TODO implement build_part2_RNN in my_answers.py\n",
    "from my_answers import build_part2_RNN\n",
    "\n",
    "model = build_part2_RNN(window_size, len(chars))\n",
    "model.summary()\n",
    "# initialize optimizer\n",
    "# optimizer = keras.optimizers.RMSprop(lr=0.001, rho=0.9, epsilon=1e-08, decay=0.0)\n",
    "\n",
    "# compile model --> make sure initialized optimizer and callbacks - as defined above - are used\n",
    "model.compile(loss='categorical_crossentropy', optimizer='adam')"
   ]
  },
  {
   "cell_type": "markdown",
   "metadata": {},
   "source": [
    "## 2.7  Training our RNN model for text generation\n",
    "\n",
    "With our RNN setup we can now train it!  Lets begin by trying it out on a small subset of the larger version.  In the next cell we take the first 10,000 input/output pairs from our training database to learn on."
   ]
  },
  {
   "cell_type": "code",
   "execution_count": 41,
   "metadata": {
    "collapsed": true
   },
   "outputs": [],
   "source": [
    "# a small subset of our input/output pairs\n",
    "Xsmall = X[:10000,:,:] \n",
    "ysmall = y[:10000,:]"
   ]
  },
  {
   "cell_type": "code",
   "execution_count": 42,
   "metadata": {
    "scrolled": false
   },
   "outputs": [
    {
     "name": "stdout",
     "output_type": "stream",
     "text": [
      "Epoch 00000: val_loss improved from inf to 2.91296, saving model to my_saved_models/small.training.data.hdf5\n",
      "Epoch 00001: val_loss improved from 2.91296 to 2.87923, saving model to my_saved_models/small.training.data.hdf5\n",
      "Epoch 00002: val_loss improved from 2.87923 to 2.85975, saving model to my_saved_models/small.training.data.hdf5\n",
      "Epoch 00003: val_loss improved from 2.85975 to 2.83434, saving model to my_saved_models/small.training.data.hdf5\n",
      "Epoch 00004: val_loss improved from 2.83434 to 2.79368, saving model to my_saved_models/small.training.data.hdf5\n",
      "Epoch 00005: val_loss improved from 2.79368 to 2.73285, saving model to my_saved_models/small.training.data.hdf5\n",
      "Epoch 00006: val_loss improved from 2.73285 to 2.64118, saving model to my_saved_models/small.training.data.hdf5\n",
      "Epoch 00007: val_loss improved from 2.64118 to 2.57106, saving model to my_saved_models/small.training.data.hdf5\n",
      "Epoch 00008: val_loss improved from 2.57106 to 2.52453, saving model to my_saved_models/small.training.data.hdf5\n"
     ]
    },
    {
     "data": {
      "image/png": "[encoded data removed]",
      "text/plain": [
       "<matplotlib.figure.Figure at 0x7fafb2f36f98>"
      ]
     },
     "metadata": {},
     "output_type": "display_data"
    },
    {
     "name": "stdout",
     "output_type": "stream",
     "text": [
      "\n",
      "Runtime: 1 min 21 sec\n",
      "Epoch 00009: val_loss improved from 2.52453 to 2.43711, saving model to my_saved_models/small.training.data.hdf5\n",
      "Epoch 00010: val_loss improved from 2.43711 to 2.39291, saving model to my_saved_models/small.training.data.hdf5\n",
      "Epoch 00011: val_loss improved from 2.39291 to 2.37341, saving model to my_saved_models/small.training.data.hdf5\n",
      "Epoch 00012: val_loss improved from 2.37341 to 2.35101, saving model to my_saved_models/small.training.data.hdf5\n",
      "Epoch 00013: val_loss improved from 2.35101 to 2.31188, saving model to my_saved_models/small.training.data.hdf5\n",
      "Epoch 00014: val_loss improved from 2.31188 to 2.28776, saving model to my_saved_models/small.training.data.hdf5\n",
      "Epoch 00015: val_loss improved from 2.28776 to 2.27569, saving model to my_saved_models/small.training.data.hdf5\n",
      "Epoch 00016: val_loss improved from 2.27569 to 2.25982, saving model to my_saved_models/small.training.data.hdf5\n",
      "Epoch 00017: val_loss improved from 2.25982 to 2.24432, saving model to my_saved_models/small.training.data.hdf5\n",
      "Epoch 00018: val_loss improved from 2.24432 to 2.23787, saving model to my_saved_models/small.training.data.hdf5\n"
     ]
    },
    {
     "data": {
      "image/png": "[encoded data removed]",
      "text/plain": [
       "<matplotlib.figure.Figure at 0x7fafd75a0ba8>"
      ]
     },
     "metadata": {},
     "output_type": "display_data"
    },
    {
     "name": "stdout",
     "output_type": "stream",
     "text": [
      "\n",
      "Runtime: 2 min 41 sec\n",
      "Epoch 00019: val_loss improved from 2.23787 to 2.21603, saving model to my_saved_models/small.training.data.hdf5\n",
      "Epoch 00020: val_loss improved from 2.21603 to 2.20725, saving model to my_saved_models/small.training.data.hdf5\n",
      "Epoch 00021: val_loss improved from 2.20725 to 2.19486, saving model to my_saved_models/small.training.data.hdf5\n",
      "Epoch 00022: val_loss improved from 2.19486 to 2.19174, saving model to my_saved_models/small.training.data.hdf5\n",
      "Epoch 00023: val_loss improved from 2.19174 to 2.18478, saving model to my_saved_models/small.training.data.hdf5\n",
      "Epoch 00024: val_loss improved from 2.18478 to 2.17007, saving model to my_saved_models/small.training.data.hdf5\n",
      "Epoch 00025: val_loss improved from 2.17007 to 2.16788, saving model to my_saved_models/small.training.data.hdf5\n",
      "Epoch 00026: val_loss did not improve\n",
      "Epoch 00027: val_loss improved from 2.16788 to 2.16486, saving model to my_saved_models/small.training.data.hdf5\n",
      "Epoch 00028: val_loss improved from 2.16486 to 2.15825, saving model to my_saved_models/small.training.data.hdf5\n"
     ]
    },
    {
     "data": {
      "image/png": "[encoded data removed]",
      "text/plain": [
       "<matplotlib.figure.Figure at 0x7fafd74b4e48>"
      ]
     },
     "metadata": {},
     "output_type": "display_data"
    },
    {
     "name": "stdout",
     "output_type": "stream",
     "text": [
      "\n",
      "Runtime: 4 min 2 sec\n",
      "Epoch 00029: val_loss did not improve\n"
     ]
    }
   ],
   "source": [
    "start = time.time()\n",
    "\n",
    "# train the model\n",
    "from keras.callbacks import ModelCheckpoint  \n",
    "checkpointer = ModelCheckpoint(filepath='my_saved_models/small.training.data.hdf5', \n",
    "                               verbose=1, save_best_only=True)\n",
    "\n",
    "X_valid, y_valid = X[10000:15000], y[10000:15000]\n",
    "\n",
    "callback_inst = Callback_Func((Xsmall, ysmall), (X_valid, y_valid), start, wanna_plot=True, p_freq=10)\n",
    "\n",
    "model.fit(Xsmall, ysmall, \n",
    "          validation_data=(X_valid, y_valid),\n",
    "          batch_size=512, \n",
    "          callbacks=[callback_inst, checkpointer], \n",
    "          epochs=30, \n",
    "          verbose=0)\n",
    "\n",
    "# save weights\n",
    "model.save_weights('model_weights/best_RNN_small_textdata_weights.hdf5') "
   ]
  },
  {
   "cell_type": "markdown",
   "metadata": {},
   "source": [
    "How do we make a given number of predictions (characters) based on this fitted model?   \n",
    "\n",
    "First we predict the next character after following any chunk of characters in the text of length equal to our chosen window size.  Then we remove the first character in our input sequence and tack our prediction onto the end.  This gives us a slightly changed sequence of inputs that still has length equal to the size of our window.  We then feed in this updated input sequence into the model to predict the another character.  Together then we have two predicted characters following our original input sequence.  Repeating this process N times gives us N predicted characters.\n",
    "\n",
    "In the next Python cell we provide you with a completed function that does just this - it makes predictions when given a) a trained RNN model, b) a subset of (window_size) characters from the text, and c) a number of characters to predict (to follow our input subset)."
   ]
  },
  {
   "cell_type": "code",
   "execution_count": 46,
   "metadata": {
    "collapsed": true
   },
   "outputs": [],
   "source": [
    "# function that uses trained model to predict a desired number of future characters\n",
    "def predict_next_chars(model,input_chars,num_to_predict):     \n",
    "    # create output\n",
    "    predicted_chars = ''\n",
    "    for i in range(num_to_predict):\n",
    "        # convert this round's predicted characters to numerical input    \n",
    "        x_test = np.zeros((1, window_size, len(chars)))\n",
    "        for t, char in enumerate(input_chars):\n",
    "            x_test[0, t, chars_to_indices[char]] = 1.\n",
    "\n",
    "        # make this round's prediction\n",
    "        test_predict = model.predict(x_test, verbose = 0)[0]\n",
    "\n",
    "        # translate numerical prediction back to characters\n",
    "        r = np.argmax(test_predict)  # predict class of each test input\n",
    "        d = indices_to_chars[r] \n",
    "\n",
    "        # update predicted_chars and input\n",
    "        predicted_chars += d\n",
    "        input_chars += d\n",
    "        input_chars = input_chars[1:]\n",
    "        \n",
    "    return predicted_chars"
   ]
  },
  {
   "cell_type": "markdown",
   "metadata": {},
   "source": [
    "<a id='TODO_6'></a>\n",
    "\n",
    "With your trained model try a few subsets of the complete text as input - note the length of each must be exactly equal to the window size.  For each subset use the function above to predict the next 100 characters that follow each input."
   ]
  },
  {
   "cell_type": "code",
   "execution_count": 44,
   "metadata": {
    "scrolled": true
   },
   "outputs": [
    {
     "name": "stdout",
     "output_type": "stream",
     "text": [
      "------------------\n",
      "input chars = \n",
      "have a cab. no, my brougham is waiting. then that will simplify matters. we descended and started of\"\n",
      "\n",
      "predicted chars = \n",
      " the mas the mast and har in the cour the sere the sout the sour the sour the sout the sere the sout\"\n",
      "\n",
      "------------------\n",
      "input chars = \n",
      "forefinger upon the paper, but his eyes upon my companion. how, in the name of good fortune, did you\"\n",
      "\n",
      "predicted chars = \n",
      " has ingere the sere the sout the sere the sout the sere the sout the sere the sout the sere the sou\"\n",
      "\n"
     ]
    }
   ],
   "source": [
    "# TODO: choose an input sequence and use the prediction function in the previous Python cell \n",
    "# to predict 100 characters following it.\n",
    "# get an appropriately sized chunk of characters from the text\n",
    "start_inds = [40000, 50000]\n",
    "\n",
    "# load in weights\n",
    "model.load_weights('model_weights/best_RNN_small_textdata_weights.hdf5')\n",
    "for s in start_inds:\n",
    "    start_index = s\n",
    "    input_chars = text[start_index: start_index + window_size]\n",
    "\n",
    "    # use the prediction function\n",
    "    predict_input = predict_next_chars(model,input_chars,num_to_predict = 100)\n",
    "\n",
    "    # print out input characters\n",
    "    print('------------------')\n",
    "    input_line = 'input chars = ' + '\\n' +  input_chars + '\"' + '\\n'\n",
    "    print(input_line)\n",
    "\n",
    "    # print out predicted characters\n",
    "    line = 'predicted chars = ' + '\\n' +  predict_input + '\"' + '\\n'\n",
    "    print(line)"
   ]
  },
  {
   "cell_type": "markdown",
   "metadata": {},
   "source": [
    "This looks ok, but not great.  Now lets try the same experiment with a larger chunk of the data - with the first 100,000 input/output pairs.  \n",
    "\n",
    "Tuning RNNs for a typical character dataset like the one we will use here is a computationally intensive endeavour and thus timely on a typical CPU.  Using a reasonably sized cloud-based GPU can speed up training by a factor of 10.  Also because of the long training time it is highly recommended that you carefully write the output of each step of your process to file.  This is so that all of your results are saved even if you close the web browser you're working out of, as the processes will continue processing in the background but variables/output in the notebook system will not update when you open it again.\n",
    "\n",
    "In the next cell we show you how to create a text file in Python and record data to it.  This sort of setup can be used to record your final predictions."
   ]
  },
  {
   "cell_type": "code",
   "execution_count": 45,
   "metadata": {},
   "outputs": [
    {
     "data": {
      "text/plain": [
       "'this is only a test \\nthe value of x is 2\\n'"
      ]
     },
     "execution_count": 45,
     "metadata": {},
     "output_type": "execute_result"
    }
   ],
   "source": [
    "### A simple way to write output to file\n",
    "f = open('my_test_output.txt', 'w')              # create an output file to write too\n",
    "f.write('this is only a test ' + '\\n')           # print some output text\n",
    "x = 2\n",
    "f.write('the value of x is ' + str(x) + '\\n')    # record a variable value\n",
    "f.close()     \n",
    "\n",
    "# print out the contents of my_test_output.txt\n",
    "f = open('my_test_output.txt', 'r')              # create an output file to write too\n",
    "f.read()"
   ]
  },
  {
   "cell_type": "markdown",
   "metadata": {},
   "source": [
    "With this recording devices we can now more safely perform experiments on larger portions of the text.  In the next cell we will use the first 100,000 input/output pairs to train our RNN model."
   ]
  },
  {
   "cell_type": "markdown",
   "metadata": {},
   "source": [
    "First we fit our model to the dataset, then generate text using the trained model in precisely the same generation method applied before on the small dataset.\n",
    "\n",
    "**Note:** your generated words should be - by and large - more realistic than with the small dataset, but you won't be able to generate perfect English sentences even with this amount of data.  A rule of thumb: your model is working well if you generate sentences that largely contain real English words."
   ]
  },
  {
   "cell_type": "code",
   "execution_count": null,
   "metadata": {
    "scrolled": false
   },
   "outputs": [
    {
     "name": "stdout",
     "output_type": "stream",
     "text": [
      "_________________________________________________________________\n",
      "Layer (type)                 Output Shape              Param #   \n",
      "=================================================================\n",
      "lstm_8 (LSTM)                (None, 100, 256)          296960    \n",
      "_________________________________________________________________\n",
      "lstm_9 (LSTM)                (None, 256)               525312    \n",
      "_________________________________________________________________\n",
      "dense_6 (Dense)              (None, 33)                8481      \n",
      "=================================================================\n",
      "Total params: 830,753.0\n",
      "Trainable params: 830,753\n",
      "Non-trainable params: 0.0\n",
      "_________________________________________________________________\n",
      "Epoch 00000: saving model to my_saved_models/large.weights.00.hdf5\n",
      "Epoch 00001: saving model to my_saved_models/large.weights.01.hdf5\n",
      "Epoch 00002: saving model to my_saved_models/large.weights.02.hdf5\n",
      "Epoch 00003: saving model to my_saved_models/large.weights.03.hdf5\n"
     ]
    }
   ],
   "source": [
    "start = time.time()\n",
    "\n",
    "# model = build_part2_RNN(window_size, len(chars))\n",
    "model.summary()\n",
    "# model.compile(loss='categorical_crossentropy', optimizer='adam')\n",
    "\n",
    "\n",
    "# a small subset of our input/output pairs\n",
    "Xlarge = X[:100000,:,:]\n",
    "ylarge = y[:100000,:]\n",
    "X_valid, y_valid = X[len(Xlarge):], y[len(Xlarge):]\n",
    "\n",
    "# TODO: fit to our larger dataset\n",
    "from keras.callbacks import ModelCheckpoint\n",
    "checkpointer = ModelCheckpoint(filepath='my_saved_models/large.weights.{epoch:02d}.hdf5', \n",
    "                               verbose=1, save_best_only=False)\n",
    "\n",
    "callback_inst = Callback_Func((Xlarge, ylarge), (X_valid, y_valid), start, wanna_plot=True, p_freq=10)\n",
    "\n",
    "model.fit(Xlarge, ylarge, \n",
    "          validation_data=(X_valid, y_valid),\n",
    "          batch_size=128, \n",
    "          callbacks=[callback_inst, checkpointer],\n",
    "          epochs=8, \n",
    "          verbose=0)\n",
    "# save weights\n",
    "model.save_weights('model_weights/best_RNN_large_textdata_weights.hdf5')"
   ]
  },
  {
   "cell_type": "code",
   "execution_count": 61,
   "metadata": {},
   "outputs": [
    {
     "data": {
      "image/png": "[encoded data removed]",
      "text/plain": [
       "<matplotlib.figure.Figure at 0x7efe7cfa91d0>"
      ]
     },
     "metadata": {},
     "output_type": "display_data"
    }
   ],
   "source": [
    "callback_inst.plotter()"
   ]
  },
  {
   "cell_type": "code",
   "execution_count": 62,
   "metadata": {},
   "outputs": [
    {
     "name": "stdout",
     "output_type": "stream",
     "text": [
      "-------------------\n",
      "\n",
      "INPUT CHARS = \n",
      " we met him that is to say, mr. holmes, i met him twice for walks, but after that father came back a\n",
      "\n",
      "PREDICTED CHARS = \n",
      "nd stanted questionicaties secure me from any steps which he might take in the fith the most singular which i have listened to for some time. you have heard me remarked holmes. this is was of done or twenty and me in an instant the lady, who had stepped from his chair, with enney would come in a constive for which he was remarkable, and, having closed the door and bowed her in over bright pawnbroker out of the way for a number of hours every day. it was a curiousl slight, though it was surrounded by none of the grim and strange feature. my hair as yours who may find, he remarked, for they can hardly take any steps until the good pawnbroker is safely in bedin chair. we have a git of the stranger with deference. still, i told you she would. i am still in the dark. i do not wish to make a mystery, said he, laughing. the matter was so delicate to an ond. you must stay your hair, lithen brought on the ratter and glanced. and he is heard it is she to hes if your lifely, and for daring i am n\n",
      "\n",
      "Runtime: 1 min 3 sec\n"
     ]
    }
   ],
   "source": [
    "start = time.time()\n",
    "# TODO: choose an input sequence and use the prediction function in the previous Python cell to predict \n",
    "# 100 characters following it\n",
    "# get an appropriately sized chunk of characters from the text\n",
    "start_inds = [105000]\n",
    "\n",
    "# save output\n",
    "f = open('text_gen_output/RNN_large_textdata_output.txt', 'w')  # create an output file to write too\n",
    "\n",
    "# load weights\n",
    "# model.load_weights('model_weights/best_RNN_large_textdata_weights.hdf5')\n",
    "model.load_weights('my_saved_models/large.weights.09.hdf5')\n",
    "for s in start_inds:\n",
    "    start_index = s\n",
    "    input_chars = text[start_index: start_index + window_size]\n",
    "\n",
    "    # use the prediction function\n",
    "    predict_input = predict_next_chars(model,input_chars,num_to_predict = 1000)\n",
    "\n",
    "    # print out input characters\n",
    "    line = '-------------------' + '\\n'\n",
    "    print(line)\n",
    "    f.write(line)\n",
    "\n",
    "    input_line = 'INPUT CHARS = ' + '\\n' +  input_chars  + '\\n'\n",
    "    print(input_line)\n",
    "    f.write(input_line)\n",
    "\n",
    "    # print out predicted characters\n",
    "    predict_line = 'PREDICTED CHARS = ' + '\\n' +  predict_input + '\\n'\n",
    "    print(predict_line)\n",
    "    f.write(predict_line)\n",
    "f.close()\n",
    "print_runtime(start)"
   ]
  },
  {
   "cell_type": "markdown",
   "metadata": {},
   "source": [
    "\n",
    ".     \n",
    ".        \n",
    ".     \n",
    "\n",
    "---   \n",
    "\n",
    "# RESULTS    \n",
    "\n",
    "\n",
    "## 1 LSTM + 1 softmax layer,         `n_units = (256, 33)`,  `step_size = 5`: \n",
    "\n",
    "\n",
    "### Epoch = 1\n",
    "\n",
    "```\n",
    "INPUT CHARS = \n",
    " we met him that is to say, mr. holmes, i met him twice for walks, but after that father came back a\n",
    "\n",
    "PREDICTED CHARS = \n",
    "nd has in the has the has the has the has the has the has the has the has the has the has the has the has the has the has the has the has the has the has the has the has the has the has the has the has the has the has the has the has the has the has the has the has the has the has the has the has the has the has the has the has the has the has the has the has the has the has the has the has the has the has the has the has the has the has the has the has the has the has the has the has the has the has the has the has the has the has the has the has the has the has the has the has the has the has the has the has the has the has the has the has the has the has the has the has the has the has the has the has the has the has the has the has the has the has the has the has the has the has the has the has the has the has the has the has the has the has the has the has the has the has the has the has the has the has the has the has the has the has the has the has the has the has the has the ha\n",
    "```\n",
    "\n",
    "### Epoch = 9 (Lowest Validation Loss)\n",
    "\n",
    "```\n",
    "INPUT CHARS = \n",
    " we met him that is to say, mr. holmes, i met him twice for walks, but after that father came back a\n",
    "\n",
    "PREDICTED CHARS = \n",
    "nd said he has a more the stank of the stain of the stain of the stain of the stain of the stain of the stain of the stain of the stain of the stain of the stain of the stain of the stain of the stain of the stain of the stain of the stain of the stain of the stain of the stain of the stain of the stain of the stain of the stain of the stain of the stain of the stain of the stain of the stain of the stain of the stain of the stain of the stain of the stain of the stain of the stain of the stain of the stain of the stain of the stain of the stain of the stain of the stain of the stain of the stain of the stain of the stain of the stain of the stain of the stain of the stain of the stain of the stain of the stain of the stain of the stain of the stain of the stain of the stain of the stain of the stain of the stain of the stain of the stain of the stain of the stain of the stain of the stain of the stain of the stain of the stain of the stain of the stain of the stain of the stain of the\n",
    "\n",
    "```\n",
    "\n",
    "### Epoch = 20 (Overfit)   \n",
    "\n",
    "\n",
    "```\n",
    "INPUT CHARS = \n",
    " we met him that is to say, mr. holmes, i met him twice for walks, but after that father came back a\n",
    "\n",
    "PREDICTED CHARS = \n",
    "ll well, we learred you should be some holmes a comminge and to miss my extreal curtury which i have heard when i could not be dearched down former holmes. i me comeser faced against the recarticlem it was to be a gentleman morning, and the clark was a long deat which i had not oucce of this morning, he came to the staits and a blance of my closely. and the clark was the countrally clocked his hands upon the stair of shownds which was a most deating that the factly clumming her recame the stair of is dreadful a shall be mereather more very from my for hourt came to defare the coroner s feesther a fout and was something of his own fromm. here came to year her entraded to the straid or briends we had showngh our sain shat me for heart the darch of the good colourmed down a gentleman was plainter at his hands. herecher, the dece was streeting he stood ind was so it. cour edseed to the celturress the read sloke s dreetigg, and the carring brimed, had been defirestered, and the plass gen wi\n",
    "```\n",
    "\n",
    "\n",
    "\n",
    "### Epoch = 40 (Overfit)   \n",
    "\n",
    "```\n",
    "INPUT CHARS = \n",
    " we met him that is to say, mr. holmes, i met him twice for walks, but after that father came back a\n",
    "\n",
    "PREDICTED CHARS = \n",
    "gainst the states, and while he had that he had din the dark. and excentined that you have could you are so expecienty so. what our lipped upon shath of the bride. les recerved the strange detucall return the hold was a mander must have been refeevened to be a powire of our fairs and clooking s deecteve, and the cains which he spould him. of i can awore your posseps. it was a great ence? in the sectem, suid hell st an one offor certainty gar. what i remain that it was not you, and so with you ase it. if i could into the street, and his not companion, black and duffer at the sign. or stire that i looked out upon me. mer. what can him it work. on the worts. i have evernownotaghthers were sinnel what i was stalled about in the eivent someth, and i have his proy. it would be but when the staies. what can him it to come ain the ease with which he had his pointed the sill was un this arring, his breats which have been strong ire, and the warkies in one of home, wasson, but i should have a ma\n",
    "```\n",
    "\n",
    "### Epoch = 60 (Overfit)   \n",
    "   \n",
    "   \n",
    "```\n",
    "INPUT CHARS = \n",
    " we met him that is to say, mr. holmes, i met him twice for walks, but after that father came back a\n",
    "\n",
    "PREDICTED CHARS = \n",
    "nd workness there i have been to the crime fffection the lady can the man scould netted pringsed into his chaig. as for now for you deep my trauque, recoived me. with the light sprang i am alr man was inveet more and was wristened and rather men and then a fown subgiay from me instances in jestappshover, but the policement was thought i passible pollet and caterdicue, and the lamp, now, i searly drawated, when i seeked throuse you is not ourselves if you asear by the fire. depped upon the peesoner which i had more the from his toolly, said holmes. and then he should have enturally fir that miss my ond would have a wripps. how i was all but sught into a heart my prince of a little pleckich. very strong intio s chabbable bally quite for fiming and recond to enterine that the door passed by me to dear him, and my bourd, and he had that his fairm and faced evening upon his face. and i was had bolmeat. the large blorge of the lamp, who is any humber avery forwion. there is a thoulled upon h\n",
    "\n",
    "```"
   ]
  },
  {
   "cell_type": "markdown",
   "metadata": {},
   "source": [
    "--- \n",
    ".  \n",
    ".  \n",
    ".  \n",
    "\n",
    "## 2 LSTM + 1 softmax layer,           `n_units = (256, 256, 33)`,  `step_size = 5`:\n",
    "\n",
    "\n",
    "### Epoch = 1\n",
    "```\n",
    "INPUT CHARS = \n",
    " we met him that is to say, mr. holmes, i met him twice for walks, but after that father came back a\n",
    "\n",
    "PREDICTED CHARS = \n",
    "nd the cour the har her has and the cour the har her has and the cour the har her has and the cour the har her has and the cour the har her has and the cour the har her has and the cour the har her has and the cour the har her has and the cour the har her has and the cour the har her has and the cour the har her has and the cour the har her has and the cour the har her has and the cour the har her has and the cour the har her has and the cour the har her has and the cour the har her has and the cour the har her has and the cour the har her has and the cour the har her has and the cour the har her has and the cour the har her has and the cour the har her has and the cour the har her has and the cour the har her has and the cour the har her has and the cour the har her has and the cour the har her has and the cour the har her has and the cour the har her has and the cour the har her has and the cour the har her has and the cour the har her has and the cour the har her has and the cour th\n",
    "\n",
    "```\n",
    "\n",
    "### Epoch = 6 (Lowest Validation Loss)\n",
    "\n",
    "```\n",
    "INPUT CHARS = \n",
    " we met him that is to say, mr. holmes, i met him twice for walks, but after that father came back a\n",
    "\n",
    "PREDICTED CHARS = \n",
    "nd a few minutes and the street, and the street, and the street, and the street, and the street, and the street, and the street, and the street, and the street, and the street, and the street, and the street, and the street, and the street, and the street, and the street, and the street, and the street, and the street, and the street, and the street, and the street, and the street, and the street, and the street, and the street, and the street, and the street, and the street, and the street, and the street, and the street, and the street, and the street, and the street, and the street, and the street, and the street, and the street, and the street, and the street, and the street, and the street, and the street, and the street, and the street, and the street, and the street, and the street, and the street, and the street, and the street, and the street, and the street, and the street, and the street, and the street, and the street, and the street, and the street, and the street, and the\n",
    "```\n",
    "\n",
    "\n",
    "### Epoch = 20 (Overfit Region)\n",
    "\n",
    "```\n",
    "INPUT CHARS = \n",
    " we met him that is to say, mr. holmes, i met him twice for walks, but after that father came back a\n",
    "\n",
    "PREDICTED CHARS = \n",
    "gainst the straing the singler in the snokion, too course, i have a low son probable to the station of the attention of the very severstance. you was a gurmulty villen st. and this smand strence you a gual of the trieffe. the rive remarks been streets, we may could he would came to me fram byound i feard that you have that the first plece, to it have been two ffocd he stooked that his work, and there was miss devial and strange cruscuse a pepumarand abit the dressing in the sawe. i think that the doess i should do told my story, st it was the very good to think trate. i am glancion showly no look, and that she had seen no condid to you. what was a little a primat with the rest, that i was an infoor and now of the snothish of the remained it is to the deters that i have the police af the chamman who was thought. cercansing the two my closing believe that i have the get in the side. and i was and that i would obly dee that we have threw the disting to treak. the strand right of lide. i s\n",
    "```\n",
    "\n",
    "### Epoch = 40 (Overfit Region)\n",
    "\n",
    "```\n",
    "INPUT CHARS = \n",
    " we met him that is to say, mr. holmes, i met him twice for walks, but after that father came back a\n",
    "\n",
    "PREDICTED CHARS = \n",
    "ging in his pocutable, hand, the main brick of his froom a woman with a serious case against the full puss, and her face in the chair of the inspector and good easult as i day deally seisting in his son of sud to ming through the stair and a groome ture to befare us. and her an which i was all known both hun, and that the door of the cooone looker at the room pointing and being the best into the papers, i shall did you been we bustned so by his way. i tell the passing being up his passess; in that his face, and that the datter street, haid soon s me to be ther majest you sharp find you shaw her it on one cormiss of good durished what the day before you would sit his hand. it was a woman in yours of seven a long by this more window, has alone blief the questions for the first slow presure. there were a slad in for him her. but he like to the country of lindong room and lady to his room. i had been to talle from from his pocket, and the twioded out the foom of the minet he rained to my s\n",
    "```\n",
    "\n",
    "\n",
    "### Epoch = 60 (Overfit Region)\n",
    "\n",
    "```\n",
    "INPUT CHARS = \n",
    " we met him that is to say, mr. holmes, i met him twice for walks, but after that father came back a\n",
    "\n",
    "PREDICTED CHARS = \n",
    "gainst the lamy seven with a strucy against them even my consider tall interthen atter the fangh. i had enotning is even in london the snalove subul porsing the matter at the forning room of his own fellow rought it was without a day a small earter s feether, and the chair munts we have keen the leave when pown her that he had left used from which lent the street. my wife, wathout have the dates of his stood, his hather. i should come upon a little problems at that no one of the leds the hall jassed your contrist of the coroner was a pased from the ulder from him bring you before the darken paced probable and ofference. then i sere my bridely that we have no doubt, dempled of his little preturny. my duit me followed. what is it. oh, in spikes, said holmes. but when i glanced them to door, when i was that he had spented to really that you were that a shall case i pointed to be and the seven s moram for it. i can a que man will funds and wasson, hall was no wich your determent! and yet t\n",
    "```"
   ]
  },
  {
   "cell_type": "markdown",
   "metadata": {
    "collapsed": true
   },
   "source": [
    "---    \n",
    ".   \n",
    ".   \n",
    ".   \n",
    "\n",
    "## FULL TRAINING DATA SET          \n",
    "### `n_units = (256, 256, 33)`,  `step_size = 1`:      \n",
    "    \n",
    "    \n",
    "    \n",
    "    \n",
    "### Epoch = 5 (Lowest Validation Loss)\n",
    "\n",
    "```\n",
    "INPUT CHARS = \n",
    " we met him that is to say, mr. holmes, i met him twice for walks, but after that father came back a\n",
    "\n",
    "PREDICTED CHARS = \n",
    "nd a save that i have not an account of the street of a sittle man who had been not a should carried my companion of the carried and a save that i have not an account of the street of a sittle man who had been not a should carried my companion of the carried and a save that i have not an account of the street of a sittle man who had been not a should carried my companion of the carried and a save that i have not an account of the street of a sittle man who had been not a should carried my companion of the carried and a save that i have not an account of the street of a sittle man who had been not a should carried my companion of the carried and a save that i have not an account of the street of a sittle man who had been not a should carried my companion of the carried and a save that i have not an account of the street of a sittle man who had been not a should carried my companion of the carried and a save that i have not an account of the street of a sittle man who had been not a shou\n",
    "```\n",
    "\n",
    "### Epoch = 10 (Overfit)\n",
    "\n",
    "```\n",
    "INPUT CHARS = \n",
    " we met him that is to say, mr. holmes, i met him twice for walks, but after that father came back a\n",
    "\n",
    "PREDICTED CHARS = \n",
    " little advice that he had driven up to the corner hanses of the corner to an end. he can do it a give a smility and having his eyes still not hear that i have a completely. i think that i have seen that i have seen that i have seen that i have seen that i have seen that i have seen that i have seen that i have seen that i have seen that i have seen that i have seen that i have seen that i have seen that i have seen that i have seen that i have seen that i have seen that i have seen that i have seen that i have seen that i have seen that i have seen that i have seen that i have seen that i have seen that i have seen that i have seen that i have seen that i have seen that i have seen that i have seen that i have seen that i have seen that i have seen that i have seen that i have seen that i have seen that i have seen that i have seen that i have seen that i have seen that i have seen that i have seen that i have seen that i have seen that i have seen that i have seen that i have seen th\n",
    "```\n",
    "\n",
    "### Epoch = 20 (Overfit)\n",
    "\n",
    "```\n",
    "INPUT CHARS = \n",
    " we met him that is to say, mr. holmes, i met him twice for walks, but after that father came back a\n",
    "\n",
    "PREDICTED CHARS = \n",
    "nd discretion, whom i mad you did you do it. every share your afternoon so enwrapped in the most incisive reasoner to admit such intrusions with the detrown for the photograph? the divints scardinal goods for ithered her has done a considerable in the morning. she will not be up, so that we shall have a clear five change with a cab tations which my doing in the house about that any were at the woman. i have to let you will follow them when in the veil from my inquiring for than ways. he was stick, until the good pause it closing in the dark. i do not wish to make a mystery of the others, and showine her give a chink of hands. then is just grap to him. he is dark, and we pear the larguam fur, and he paper into hards and passignable trated as the houses. the nair as for a sneet. pocke s chaint and faully on hair. the photograph a cabinet? it was the most preposterous position which you have been comer, so that it was probled with my companion, and compaid has the home at partica. i shoul\n",
    "```\n",
    "\n",
    "### Epoch = 40 (Overfit)\n",
    "\n",
    "```\n",
    "INPUT CHARS = \n",
    " we met him that is to say, mr. holmes, i met him twice for walks, but after that father came back a\n",
    "\n",
    "PREDICTED CHARS = \n",
    " small carried meround and my friend, remarked our prisoner and cletroun a crowd and lay back in the cably interested in the matter i stood as in a lover of his activity. i calner to put yourself out is of such delicacy that i cannot confide it even to you, who have been good enough to call to me in the morning i determined to have done that also i cried, glass such a play after to you. you will find me at the langham under the name of the count von kramm. then i shall drop you a line to let you know how we progress. pray do so. i shall be all anxistence operation, and for the quick analysis of cause and effect which entited letters, and i have no doubt that you have been better before us. then, as to my consult that you were good enough to give advice to possess i trusked by the sitting room. there is a comfortable sofa. this way, please! slowly and solemnly he was bones on thing. i was sure that i might rely on you. but what is it you wish? when mrs. turner has brought in the tray i \n",
    "\n",
    "```\n",
    "\n",
    "### Epoch = 60 (Overfit)\n",
    "\n",
    "```\n",
    "INPUT CHARS = \n",
    " we met him that is to say, mr. holmes, i met him twice for walks, but after that father came back a\n",
    "\n",
    "PREDICTED CHARS = \n",
    "nd stanted questionicaties secure me from any steps which he might take in the fith the most singular which i have listened to for some time. you have heard me remarked holmes. this is was of done or twenty and me in an instant the lady, who had stepped from his chair, with enney would come in a constive for which he was remarkable, and, having closed the door and bowed her in over bright pawnbroker out of the way for a number of hours every day. it was a curiousl slight, though it was surrounded by none of the grim and strange feature. my hair as yours who may find, he remarked, for they can hardly take any steps until the good pawnbroker is safely in bedin chair. we have a git of the stranger with deference. still, i told you she would. i am still in the dark. i do not wish to make a mystery, said he, laughing. the matter was so delicate to an ond. you must stay your hair, lithen brought on the ratter and glanced. and he is heard it is she to hes if your lifely, and for daring i am n\n",
    "\n",
    "```"
   ]
  },
  {
   "cell_type": "code",
   "execution_count": null,
   "metadata": {
    "collapsed": true
   },
   "outputs": [],
   "source": []
  },
  {
   "cell_type": "code",
   "execution_count": null,
   "metadata": {
    "collapsed": true
   },
   "outputs": [],
   "source": []
  },
  {
   "cell_type": "code",
   "execution_count": null,
   "metadata": {
    "collapsed": true
   },
   "outputs": [],
   "source": []
  }
 ],
 "metadata": {
  "anaconda-cloud": {},
  "kernelspec": {
   "display_name": "Python 3",
   "language": "python",
   "name": "python3"
  },
  "language_info": {
   "codemirror_mode": {
    "name": "ipython",
    "version": 3
   },
   "file_extension": ".py",
   "mimetype": "text/x-python",
   "name": "python",
   "nbconvert_exporter": "python",
   "pygments_lexer": "ipython3",
   "version": "3.6.1"
  }
 },
 "nbformat": 4,
 "nbformat_minor": 1
}
